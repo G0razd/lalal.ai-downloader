{
 "cells": [
  {
   "cell_type": "markdown",
   "id": "a931bfe5",
   "metadata": {},
   "source": [
    "\n",
    "# Lalal.ai Downloader and Merger\n",
    "\n",
    "This notebook provides a Python-based solution for downloading audio segments exported from Lalal.ai and merging them into a single audio file. It supports both vocals and no-vocals playlists and works seamlessly in Google Colab.\n",
    "\n",
    "## Features\n",
    "- **URL or File ID Input**: Accepts either a full URL or a file ID for processing.\n",
    "- **Flexible Playlist Selection**: Allows users to choose between vocals or no-vocals playlists.\n",
    "- **Automated Download**: Sequentially downloads all available segments.\n",
    "- **Audio Merging**: Combines downloaded segments into a single MP3 file.\n",
    "- **Colab Integration**: Designed for use in Google Colab with built-in file download support.\n",
    "\n",
    "## Prerequisites\n",
    "Before running the notebook, install the necessary dependencies:\n",
    "```bash\n",
    "!pip install pydub\n",
    "```\n",
    "\n",
    "## How to Use\n",
    "1. **Extract File ID**:\n",
    "   - Open the developer console in your browser (e.g., press `F12` in Chrome).\n",
    "   - Go to the **Network** tab and play the converted song.\n",
    "   - Locate the segment URLs and right click, copy and copy the URL.\n",
    "\n",
    "2. **Run the Notebook**:\n",
    "   - Input either a full URL or the extracted file ID when prompted.\n",
    "\n",
    "3. **Choose Playlist**:\n",
    "   - Specify whether you want the vocals (`yes`) or no-vocals (`no`) playlist.\n",
    "\n",
    "4. **Download and Merge**:\n",
    "   - The script will download all segments and merge them into `merged_audio.mp3`.\n",
    "   - The merged file will be available for download directly from Colab.\n",
    "\n",
    "## Example Input\n",
    "- URL:  \n",
    "  `https://d.lalal.ai/media/split/298a10ab-c995-488b-899c-3c81e2118c9c/ebb93a82-85ba-4f9f-b8d1-2b675e021bef/vocals_playlist/segment-000.mp3`\n",
    "- File ID:  \n",
    "  `298a10ab-c995-488b-899c-3c81e2118c9c/ebb93a82-85ba-4f9f-b8d1-2b675e021bef`\n",
    "\n",
    "## Output\n",
    "- Individual segments downloaded to the `segments` directory.\n",
    "- Merged audio saved as `merged_audio.mp3`.\n",
    "\n",
    "## Notes\n",
    "- Ensure the song is fully converted on Lalal.ai to access all segments. The script won't work on preview segments.\n",
    "- The script automatically downloads and merges available segments.\n"
   ]
  },
  {
   "cell_type": "markdown",
   "metadata": {
    "id": "swcAnRrkj5FS"
   },
   "source": [
    "# Lalal.ai Downloader\n",
    "This is a simple python script that will download the lalal exported segments and merge them for you.\n",
    "\n",
    "To get to the id of the song you go to the *Developers console* in your browser (F12 in chrome) and in network tab and play the song, you will see segments downloaded. **You have to have a full song converted or you will only get a preview**. Then click on the segment,"
   ]
  },
  {
   "cell_type": "code",
   "execution_count": 2,
   "metadata": {
    "colab": {
     "base_uri": "https://localhost:8080/"
    },
    "id": "qaqLTyTXi4rM",
    "outputId": "5164268b-5f86-492e-e734-d5aa214aec7d"
   },
   "outputs": [
    {
     "name": "stdout",
     "output_type": "stream",
     "text": [
      "Collecting pydub\n",
      "  Downloading pydub-0.25.1-py2.py3-none-any.whl.metadata (1.4 kB)\n",
      "Downloading pydub-0.25.1-py2.py3-none-any.whl (32 kB)\n",
      "Installing collected packages: pydub\n",
      "Successfully installed pydub-0.25.1\n"
     ]
    }
   ],
   "source": [
    "!pip install pydub"
   ]
  },
  {
   "cell_type": "code",
   "execution_count": 9,
   "metadata": {
    "colab": {
     "base_uri": "https://localhost:8080/"
    },
    "id": "kU3OBPbRigyG",
    "outputId": "959305e6-a156-40b5-bcc6-cf73f6c54f8e"
   },
   "outputs": [
    {
     "name": "stdout",
     "output_type": "stream",
     "text": [
      "Enter the URL of the segment or ID: 298a10ab-c995-488b-899c-3c81e2118c9c/ebb93a82-85ba-4f9f-b8d1-2b675e021bef\n",
      "298a10ab-c995-488b-899c-3c81e2118c9c/ebb93a82-85ba-4f9f-b8d1-2b675e021bef\n"
     ]
    }
   ],
   "source": [
    "import requests\n",
    "from pydub import AudioSegment\n",
    "import os\n",
    "from google.colab import files\n",
    "import re\n",
    "\n",
    "# Directory to store downloaded segments\n",
    "DOWNLOAD_DIR = \"segments\"\n",
    "MERGED_FILE = \"merged_audio.mp3\"\n",
    "\n",
    "# Ensure the download directory exists\n",
    "os.makedirs(DOWNLOAD_DIR, exist_ok=True)\n",
    "\n",
    "def extract_file_id(input_str):\n",
    "    \"\"\"Extract the file ID from the provided URL or return it if it's already an ID.\"\"\"\n",
    "    if re.match(r\"^[a-f0-9\\-/]{36,}$\", input_str):\n",
    "        return input_str  # Input is already an ID\n",
    "    match = re.search(r\"/media/split/(.*?/.*?)/\", input_str)\n",
    "    if match:\n",
    "        return match.group(1)\n",
    "    else:\n",
    "        raise ValueError(\"Invalid input. Provide a valid URL or file ID.\")\n",
    "\n",
    "def get_base_url(file_id, vocals):\n",
    "    \"\"\"Construct the base URL based on file ID and vocals/no vocals.\"\"\"\n",
    "    vocals_path = \"no_vocals_playlist\" if not vocals else \"vocals_playlist\"\n",
    "    return f\"https://d.lalal.ai/media/split/{file_id}/{vocals_path}/segment-\"\n",
    "\n",
    "def download_segment(base_url, segment_number):\n",
    "    \"\"\"Download a single segment by its number.\"\"\"\n",
    "    url = f\"{base_url}{segment_number:03}.mp3\"\n",
    "    file_path = os.path.join(DOWNLOAD_DIR, f\"segment-{segment_number:03}.mp3\")\n",
    "\n",
    "    try:\n",
    "        response = requests.get(url, stream=True)\n",
    "        if response.status_code == 200:\n",
    "            with open(file_path, \"wb\") as file:\n",
    "                for chunk in response.iter_content(chunk_size=1024):\n",
    "                    file.write(chunk)\n",
    "            print(f\"Downloaded: {file_path}\")\n",
    "            return file_path\n",
    "        else:\n",
    "            print(f\"Segment {segment_number} not found.\")\n",
    "            return None\n",
    "    except Exception as e:\n",
    "        print(f\"Error downloading segment {segment_number}: {e}\")\n",
    "        return None\n",
    "\n",
    "def merge_segments(segment_files):\n",
    "    \"\"\"Merge a list of audio segments into a single file.\"\"\"\n",
    "    merged = AudioSegment.empty()\n",
    "\n",
    "    for file in segment_files:\n",
    "        audio = AudioSegment.from_file(file)\n",
    "        merged += audio\n",
    "\n",
    "    merged.export(MERGED_FILE, format=\"mp3\")\n",
    "    print(f\"Merged audio saved as {MERGED_FILE}\")\n",
    "    files.download(MERGED_FILE)\n",
    "\n",
    "def main():\n",
    "    input_str = input(\"Enter the URL of the segment or ID: \").strip()\n",
    "    try:\n",
    "        file_id = extract_file_id(input_str)\n",
    "        print(f\"File id found: {file_id}\")\n",
    "    except ValueError as e:\n",
    "        print(e)\n",
    "        return\n",
    "\n",
    "\n",
    "\n",
    "\n",
    "    vocals_input = input(\"Output vocals? (yes/no): \").strip().lower()\n",
    "    vocals = vocals_input == \"yes\" or vocals_input == \"y\"\n",
    "\n",
    "    base_url = get_base_url(file_id, vocals)\n",
    "\n",
    "    segment_files = []\n",
    "    segment_number = 0\n",
    "\n",
    "    while True:\n",
    "        file_path = download_segment(base_url, segment_number)\n",
    "        if file_path:\n",
    "            segment_files.append(file_path)\n",
    "        else:\n",
    "            break\n",
    "        segment_number += 1\n",
    "\n",
    "    if segment_files:\n",
    "        merge_segments(segment_files)\n",
    "    else:\n",
    "        print(\"No segments downloaded.\")\n",
    "\n",
    "if __name__ == \"__main__\":\n",
    "    main()\n"
   ]
  }
 ],
 "metadata": {
  "colab": {
   "provenance": []
  },
  "kernelspec": {
   "display_name": "Python 3",
   "name": "python3"
  },
  "language_info": {
   "name": "python"
  }
 },
 "nbformat": 4,
 "nbformat_minor": 0
}
